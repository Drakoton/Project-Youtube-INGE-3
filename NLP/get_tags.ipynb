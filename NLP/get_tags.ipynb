import pandas as pd
import json
from collections import Counter
import nltk
from nltk.corpus import stopwords

nltk.download('stopwords')
file_path = '/content/bquxjob_2407f9d9_195305be2e9.json'  # Remplace par le chemin réel du fichier JSON

with open(file_path, 'r', encoding='utf-8') as f:
    data = json.load(f)

# Extraire tous les tags dans une liste
all_tags = []
for video in data:
    all_tags.extend(video['tags'])

# Affichage des tags récupérés
print("Tous les tags extraits :")
print(all_tags)

# Filtrage des stopwords (mots courants qu'on ne veut pas dans l'analyse)
stop_words = set(stopwords.words('french'))  # Utilisation des stopwords en français

# Nettoyer les tags en enlevant les stopwords
cleaned_tags = [tag for tag in all_tags if tag.lower() not in stop_words]

# Compter la fréquence des tags
tag_counts = Counter(cleaned_tags)

# Affichage des tags les plus fréquents
print("\nTags les plus utilisés :")
for tag, count in tag_counts.most_common(10):  # Affiche les 10 tags les plus fréquents
    print(f"{tag}: {count}")
